{
 "cells": [
  {
   "cell_type": "code",
   "execution_count": 13,
   "id": "96f3a5dc",
   "metadata": {},
   "outputs": [
    {
     "name": "stdout",
     "output_type": "stream",
     "text": [
      "Enter your age56\n",
      "Eligible\n"
     ]
    }
   ],
   "source": [
    "def Age(age):\n",
    "    if age>18:\n",
    "        print(\"Eligible\")\n",
    "    else:\n",
    "        print(\"Not Eligible\")\n",
    "age = int(input(\"Enter your age\"))\n",
    "Age(age)"
   ]
  },
  {
   "cell_type": "code",
   "execution_count": null,
   "id": "9396a73c",
   "metadata": {},
   "outputs": [],
   "source": []
  }
 ],
 "metadata": {
  "kernelspec": {
   "display_name": "Python 3 (ipykernel)",
   "language": "python",
   "name": "python3"
  },
  "language_info": {
   "codemirror_mode": {
    "name": "ipython",
    "version": 3
   },
   "file_extension": ".py",
   "mimetype": "text/x-python",
   "name": "python",
   "nbconvert_exporter": "python",
   "pygments_lexer": "ipython3",
   "version": "3.10.2"
  }
 },
 "nbformat": 4,
 "nbformat_minor": 5
}
