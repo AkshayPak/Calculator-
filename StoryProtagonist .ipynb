{
 "cells": [
  {
   "cell_type": "code",
   "execution_count": 11,
   "id": "ffb5ca00",
   "metadata": {},
   "outputs": [
    {
     "name": "stdout",
     "output_type": "stream",
     "text": [
      "Enter the protagonist's nameik\n",
      "Choose which story you want to read\n",
      "              a: for the origin story of ik\n",
      "              b: for the story of a good human being \n",
      "              c: for the story of a dictator\n",
      "a\n",
      "ik since a long time has been a topic controverse, ever since the great war of balululu ik\n",
      "            has been ruling with an iron fist. Even though ik is considered a great leader and a war hero, it was during \n",
      "            the times of war and the methods of ik is at best controverial in the era of peace and prosperity.\n"
     ]
    }
   ],
   "source": [
    "def story(protago_nick, option):\n",
    "    match option:\n",
    "        case \"a\":\n",
    "            print(f'''{protago_nick} since a long time has been a topic controverse, ever since the great war of balululu {protago_nick}\n",
    "            has been ruling with an iron fist. Even though {protago_nick} is considered a great leader and a war hero, it was during \n",
    "            the times of war and the methods of {protago_nick} is at best controverial in the era of peace and prosperity.''')\n",
    "        case \"b\":\n",
    "            print(f'''{protago_nick} is a very nice person and lovely human being in general. Overall {protago_nick} has a lot of good\n",
    "            qualities with make {protago_nick} stand out from the rest of humanity. {protago_nick} is set win the price for the most kind\n",
    "            human being the coming year''')\n",
    "        case \"c\":\n",
    "            print(f'''{protago_nick} is one of the most horrifying dictator the world has ever seen, even compared to other famous \n",
    "            dictators who\\'s very name strikes fear into the hearts of the normal people {protago_nick} on the hand is not very \n",
    "            famous even though {protago_nick}\\'s inventions has cause a lot of harm to hundreds of millions, if not billions of \n",
    "            people around the world''')\n",
    "        case _:\n",
    "            print(f\"Choose a valid option {protago_nick}\")\n",
    "\n",
    "            \n",
    "name = input(\"Enter the protagonist's name\")\n",
    "print(f'''Choose which story you want to read\n",
    "              a: for the origin story of {name}\n",
    "              b: for the story of a good human being \n",
    "              c: for the story of a dictator''')\n",
    "op = input()\n",
    "story(name,op)\n"
   ]
  },
  {
   "cell_type": "code",
   "execution_count": null,
   "id": "e5a44560",
   "metadata": {},
   "outputs": [],
   "source": []
  }
 ],
 "metadata": {
  "kernelspec": {
   "display_name": "Python 3 (ipykernel)",
   "language": "python",
   "name": "python3"
  },
  "language_info": {
   "codemirror_mode": {
    "name": "ipython",
    "version": 3
   },
   "file_extension": ".py",
   "mimetype": "text/x-python",
   "name": "python",
   "nbconvert_exporter": "python",
   "pygments_lexer": "ipython3",
   "version": "3.10.2"
  }
 },
 "nbformat": 4,
 "nbformat_minor": 5
}
